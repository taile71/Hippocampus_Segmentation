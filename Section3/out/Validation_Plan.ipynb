{
 "cells": [
  {
   "cell_type": "markdown",
   "id": "7caf263e",
   "metadata": {},
   "source": [
    "# Validaton Plan"
   ]
  },
  {
   "cell_type": "markdown",
   "id": "157b6d81",
   "metadata": {},
   "source": [
    "**Your Name:**  Tai Le"
   ]
  },
  {
   "cell_type": "markdown",
   "id": "fed16088",
   "metadata": {},
   "source": [
    "**Name of your Device:** HippoVolume AI: Hippocampus Volume Quantification in Alzheimer's Progression"
   ]
  },
  {
   "cell_type": "markdown",
   "id": "698a2b6f",
   "metadata": {},
   "source": [
    "## General Information"
   ]
  },
  {
   "cell_type": "markdown",
   "id": "d0cd66ff",
   "metadata": {},
   "source": [
    "**Intended Use Statement:**"
   ]
  },
  {
   "cell_type": "markdown",
   "id": "aedbccd1",
   "metadata": {},
   "source": [
    "To assist Radiologists in quantifying Hippocampal volume for Alzheimer's progression on 3D MR head images."
   ]
  },
  {
   "cell_type": "markdown",
   "id": "2a78eb22",
   "metadata": {},
   "source": [
    "**Indication for Use:**"
   ]
  },
  {
   "cell_type": "markdown",
   "id": "203c258c",
   "metadata": {},
   "source": [
    "HippoVlume AI is a software model used to assist Radiologists to measure and track the volume of hippocampus  over time. MRI images are from both human female and male patients."
   ]
  },
  {
   "cell_type": "markdown",
   "id": "8d709f32",
   "metadata": {},
   "source": [
    "**Device Limitations:**\n"
   ]
  },
  {
   "cell_type": "markdown",
   "id": "cc1c5f55",
   "metadata": {},
   "source": [
    "- The model performance is highly degraded without the sufficient use of computing infrastructure such as CPU/GPU, fast network I/O and RAM.\n",
    "- The quality and sufficient amount of data used in training, validation and inference are important to the model classification.\n",
    "- Patients with other neurodegenerative diseases may affect their hippocampus volume.\n",
    "- According to [Nobis et al](https://www.sciencedirect.com/science/article/pii/S2213158219302542)., 2019, the volume of hippocampus varies in a population, depending on various parameters, within certain boundaries, and it is possible to identify a \"normal\" range taking into account age, sex and brain hemisphere\n"
   ]
  },
  {
   "cell_type": "markdown",
   "id": "78d3d0ed",
   "metadata": {},
   "source": [
    "## Databases"
   ]
  },
  {
   "cell_type": "markdown",
   "id": "226e4802",
   "metadata": {},
   "source": [
    "### Dataset\n",
    "- The data was taken from [Medical Decathlon competition](http://medicaldecathlon.com/). The dataset is stored as a collection of NIFTI files, with one file per volume, and one file per corresponding segmentation mask. The original images  are T2 MRI scans of the full brain.\n",
    "- The labels were produced manually. The accuracy would depend on the radiologist experence in examing hippocampus.\n",
    "- Regarding to the labeling, the Anterior of the Hippocampus is labeled as 1. The Posterior of the Hippocampus is labeled as 2. The background is labeled as 0.\n",
    "- The dataset was split into Training and Test datasets 80 and 20 respectively. From the training data, data was split further to training and validation 80/20 respectively.\n",
    "\n",
    "##### Dataset Volume Histogram"
   ]
  },
  {
   "cell_type": "markdown",
   "id": "477c910f",
   "metadata": {},
   "source": [
    "![3D slicer](img/VolumeHist.png)"
   ]
  },
  {
   "cell_type": "markdown",
   "id": "04c64975",
   "metadata": {},
   "source": [
    "- The U‐net convolutional network architecture was used for segmentation.\n",
    "![3D slicer](img/OHIF01.png)\n",
    "\n"
   ]
  },
  {
   "cell_type": "markdown",
   "id": "a76f596a",
   "metadata": {},
   "source": [
    "## Ground Truth Acquisition Methodology\n",
    "\n",
    "The labels were produced manually.The accuracy would depend on the radiologist experence in examing hippocampus."
   ]
  },
  {
   "cell_type": "markdown",
   "id": "ac793117",
   "metadata": {},
   "source": [
    "## Algorithm Performance\n",
    "\n",
    "The following peformance methods were used:\n",
    "\n",
    "- Dice similarity coefficient (DSC)\n",
    "- Jaccard similarity coefficient (JSC)\n",
    "- Sensitivity\n",
    "- Specificity\n",
    "\n",
    "For the dataset, the DSC was about about 0.90, and JSC mean was about 0.81.\n",
    "\n",
    "The sensitivity was about 0.86, and specificity was 0.99 indicating that the model can identify 86% of the hipcampus and 99% of the non-hippocampus properly. "
   ]
  },
  {
   "cell_type": "markdown",
   "id": "5bd79f03",
   "metadata": {},
   "source": [
    "## References"
   ]
  },
  {
   "cell_type": "markdown",
   "id": "d111cb84",
   "metadata": {},
   "source": [
    "- https://www.sciencedirect.com/science/article/pii/S2213158219302542\n",
    "- http://medicaldecathlon.com/\n"
   ]
  },
  {
   "cell_type": "code",
   "execution_count": null,
   "id": "5458bdb3",
   "metadata": {},
   "outputs": [],
   "source": []
  }
 ],
 "metadata": {
  "kernelspec": {
   "display_name": "Python 3 (ipykernel)",
   "language": "python",
   "name": "python3"
  },
  "language_info": {
   "codemirror_mode": {
    "name": "ipython",
    "version": 3
   },
   "file_extension": ".py",
   "mimetype": "text/x-python",
   "name": "python",
   "nbconvert_exporter": "python",
   "pygments_lexer": "ipython3",
   "version": "3.9.12"
  }
 },
 "nbformat": 4,
 "nbformat_minor": 5
}
